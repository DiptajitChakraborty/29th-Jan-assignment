{
 "cells": [
  {
   "cell_type": "code",
   "execution_count": 1,
   "id": "31a133a5-9b38-4023-b53d-70e0b050b710",
   "metadata": {},
   "outputs": [],
   "source": [
    "#QUESTION 1\n",
    "#ans :-Guido van Rossum"
   ]
  },
  {
   "cell_type": "code",
   "execution_count": 2,
   "id": "11ab1fba-9ee5-466a-b0a5-de460c173e01",
   "metadata": {},
   "outputs": [],
   "source": [
    "#QUESTION 2\n",
    "#ANS:- Python supports 3 programming paradigms 1.Imperative, 2.Functional and 3.Object-Oriented"
   ]
  },
  {
   "cell_type": "code",
   "execution_count": 3,
   "id": "984ce4f3-c2d3-4b58-9d39-75d27a65e68d",
   "metadata": {},
   "outputs": [],
   "source": [
    "#QUESTION 3\n",
    "#ANS:-Yes python is case sensitive when dealing with identifiers."
   ]
  },
  {
   "cell_type": "code",
   "execution_count": 4,
   "id": "37d4636d-1d08-4eee-a2fd-ef3edad27263",
   "metadata": {},
   "outputs": [],
   "source": [
    "#QUESTION 4\n",
    "#ANS : -The extensions for ython files are .py"
   ]
  },
  {
   "cell_type": "code",
   "execution_count": 5,
   "id": "32651f1a-4940-4e3d-a134-2ed3ec100bbe",
   "metadata": {},
   "outputs": [],
   "source": [
    "#QUESTION 5\n",
    "#ANS:-Python is interpreted"
   ]
  },
  {
   "cell_type": "code",
   "execution_count": 8,
   "id": "b92b7aa2-3acf-4b60-9319-64a7148c7e67",
   "metadata": {},
   "outputs": [],
   "source": [
    "#QUESTION 6\n",
    "#ANS:- 1. A Module, 2.A functional body, 3.A class definition"
   ]
  },
  {
   "cell_type": "code",
   "execution_count": 9,
   "id": "6efd474a-a76b-4080-a9ec-1d2f094c46be",
   "metadata": {},
   "outputs": [],
   "source": [
    "#QUESTION 7\n",
    "#ANS:- We can write a single line comment by adding a \"#\" character before any statement or line or code."
   ]
  },
  {
   "cell_type": "code",
   "execution_count": 10,
   "id": "1ce1172d-2203-4759-a176-53a73300071d",
   "metadata": {},
   "outputs": [],
   "source": [
    "#QUESTION 8\n",
    "#ANS:- The function sys.version can help us to find the version of python that we are currently working on."
   ]
  },
  {
   "cell_type": "code",
   "execution_count": 11,
   "id": "2be945bf-4b87-4667-8c42-6eb0be6af490",
   "metadata": {},
   "outputs": [],
   "source": [
    "#QUESTION 9\n",
    "#ANS:- lambda"
   ]
  },
  {
   "cell_type": "code",
   "execution_count": 12,
   "id": "9ce34f1c-7600-4e83-9204-3e9f5e588c98",
   "metadata": {},
   "outputs": [],
   "source": [
    "#QUESTION 10\n",
    "#ANS:-pip is the standard tool for installing python packages and their dependencies in a secure manner."
   ]
  },
  {
   "cell_type": "code",
   "execution_count": 13,
   "id": "2787f692-7fdb-47d6-8c98-8530b474594b",
   "metadata": {},
   "outputs": [],
   "source": [
    "#QUESTION 11\n",
    "#ANS:-print(), dict(), list(), type(), tuple(), set(), float(), int(), range() and many more"
   ]
  },
  {
   "cell_type": "code",
   "execution_count": 14,
   "id": "306ebb01-af39-4a74-97e6-874910c98d9e",
   "metadata": {},
   "outputs": [],
   "source": [
    "#QUESTION 12\n",
    "#ANS:- An identifier can have a maximum length of 79 characters in python."
   ]
  },
  {
   "cell_type": "code",
   "execution_count": 15,
   "id": "58d94112-85e8-49f2-9c0b-2dc02b24b64d",
   "metadata": {},
   "outputs": [],
   "source": [
    "#QUESTION 13\n",
    "#ANS:-1.Easy to learn and code. 2.Improved productivity. 3.Free and open source, 4.Vast library supports and many more."
   ]
  },
  {
   "cell_type": "code",
   "execution_count": 16,
   "id": "e46c2902-7eb0-44f2-af36-0fc7b04eb881",
   "metadata": {},
   "outputs": [],
   "source": [
    "#QUESTION 14\n",
    "#ANS:-It involves a private heap containing all python objects and data structures.The management of this private heap is ensured internally by the python memory manage."
   ]
  },
  {
   "cell_type": "code",
   "execution_count": 17,
   "id": "242c1151-5d67-4e67-a5a5-7f708163bf9a",
   "metadata": {},
   "outputs": [],
   "source": [
    "#QUESTION 15\n",
    "# #ANS:-The complete path of python.exe can be added by:\n",
    "\n",
    "# Right-clicking This PC and going to Properties.\n",
    "\n",
    "# Clicking on the Advanced system settings in the menu on the left.\n",
    "\n",
    "# Clicking on the Environment Variables button o​n the bottom right.\n",
    "\n",
    "# In the System variables section, selecting the Path variable and clicking on Edit. The next screen will show all the directories that are currently a part of the PATH variable.\n",
    "\n",
    "# Clicking on New and entering Python’s install directory."
   ]
  },
  {
   "cell_type": "code",
   "execution_count": 18,
   "id": "a90f7cb2-8002-4bd7-bc81-4219d1f0edd8",
   "metadata": {},
   "outputs": [],
   "source": [
    "#QUESTION 16\n",
    "#ANS:- yes indentation is required in python."
   ]
  },
  {
   "cell_type": "code",
   "execution_count": null,
   "id": "a0e04041-0f99-4604-b1d4-5b6f2402be45",
   "metadata": {},
   "outputs": [],
   "source": []
  }
 ],
 "metadata": {
  "kernelspec": {
   "display_name": "Python 3 (ipykernel)",
   "language": "python",
   "name": "python3"
  },
  "language_info": {
   "codemirror_mode": {
    "name": "ipython",
    "version": 3
   },
   "file_extension": ".py",
   "mimetype": "text/x-python",
   "name": "python",
   "nbconvert_exporter": "python",
   "pygments_lexer": "ipython3",
   "version": "3.10.8"
  }
 },
 "nbformat": 4,
 "nbformat_minor": 5
}
